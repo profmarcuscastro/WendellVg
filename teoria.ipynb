{
 "cells": [
  {
   "attachments": {},
   "cell_type": "markdown",
   "metadata": {},
   "source": [
    "# Aula 0 - 17 / 01\n",
    "\n",
    "- Baixando arquivos\n",
    "- Etendendo o print"
   ]
  },
  {
   "attachments": {},
   "cell_type": "markdown",
   "metadata": {},
   "source": [
    "## Print \n",
    "\n",
    "- Output mais simples "
   ]
  },
  {
   "cell_type": "code",
   "execution_count": 2,
   "metadata": {},
   "outputs": [
    {
     "name": "stdout",
     "output_type": "stream",
     "text": [
      "boa \"noite\"\n"
     ]
    }
   ],
   "source": [
    "# Escrita \n",
    "# print(oq vc quer printar)\n",
    "# para simbolizar textos ' ' ou  \" \"\n",
    "print('boa \"noite\"')"
   ]
  },
  {
   "attachments": {},
   "cell_type": "markdown",
   "metadata": {},
   "source": [
    "### Curiosidades sobre print"
   ]
  },
  {
   "cell_type": "code",
   "execution_count": 7,
   "metadata": {},
   "outputs": [
    {
     "name": "stdout",
     "output_type": "stream",
     "text": [
      "ola-Wendell##ola,Marcus\n"
     ]
    }
   ],
   "source": [
    "print('ola','Wendell',sep='-',end='##')\n",
    "print('ola,Marcus')"
   ]
  },
  {
   "cell_type": "code",
   "execution_count": 10,
   "metadata": {},
   "outputs": [
    {
     "name": "stdout",
     "output_type": "stream",
     "text": [
      "121.801.777-55\n",
      "17/01/22\n"
     ]
    }
   ],
   "source": [
    "print('121','801','777',sep = '.',end = '-')\n",
    "print('55')\n",
    "\n",
    "print('17','01','22',sep = '/')"
   ]
  },
  {
   "cell_type": "markdown",
   "metadata": {},
   "source": []
  },
  {
   "cell_type": "markdown",
   "metadata": {},
   "source": []
  },
  {
   "cell_type": "markdown",
   "metadata": {},
   "source": []
  },
  {
   "cell_type": "markdown",
   "metadata": {},
   "source": []
  },
  {
   "cell_type": "markdown",
   "metadata": {},
   "source": []
  },
  {
   "cell_type": "markdown",
   "metadata": {},
   "source": []
  },
  {
   "cell_type": "markdown",
   "metadata": {},
   "source": []
  },
  {
   "cell_type": "markdown",
   "metadata": {},
   "source": []
  },
  {
   "cell_type": "markdown",
   "metadata": {},
   "source": []
  },
  {
   "attachments": {},
   "cell_type": "markdown",
   "metadata": {},
   "source": [
    "## Tipos De Variavel \n",
    "\n",
    "- String: Representa textos ou simbolos\n",
    "    - Ex: '2' ou \"2\" ou \"ola\"\n",
    "    - Str\n",
    "\n",
    "- Integer: Numero Inteiro\n",
    "    - ex: 1,2,3,4\n",
    "    - int\n",
    "\n",
    "- Float: Numero de ponto flutuante -> numero com virgula\n",
    "    - ex:3.14\n",
    "    -float\n",
    "\n",
    "\n",
    "- Boolean: Representa 2 estados -> 0 ou 1 -> True or False\n",
    "\n"
   ]
  },
  {
   "attachments": {},
   "cell_type": "markdown",
   "metadata": {},
   "source": [
    "## Operadordes Aritmeticos\n",
    "\n",
    "\n",
    "- Som-> +\n",
    "- Subtracao -> -\n",
    "- Multiplicacao-> *\n",
    "- Divisao-> /\n",
    "- Divisao inteira - > //\n",
    "- Resto-> %\n",
    "- Expenenciacao-> **"
   ]
  },
  {
   "attachments": {},
   "cell_type": "markdown",
   "metadata": {},
   "source": [
    "## Entrada \n",
    "\n",
    "- input() realiza entradas em formato de string"
   ]
  }
 ],
 "metadata": {
  "kernelspec": {
   "display_name": "Python 3",
   "language": "python",
   "name": "python3"
  },
  "language_info": {
   "codemirror_mode": {
    "name": "ipython",
    "version": 3
   },
   "file_extension": ".py",
   "mimetype": "text/x-python",
   "name": "python",
   "nbconvert_exporter": "python",
   "pygments_lexer": "ipython3",
   "version": "3.10.9 (tags/v3.10.9:1dd9be6, Dec  6 2022, 20:01:21) [MSC v.1934 64 bit (AMD64)]"
  },
  "orig_nbformat": 4,
  "vscode": {
   "interpreter": {
    "hash": "f582a5861d3dcea4e64d5e200ed4ee5a30f56e00e954e63beb025b62d243ba70"
   }
  }
 },
 "nbformat": 4,
 "nbformat_minor": 2
}
