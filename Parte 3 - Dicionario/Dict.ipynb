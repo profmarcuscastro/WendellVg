{
 "cells": [
  {
   "attachments": {},
   "cell_type": "markdown",
   "metadata": {},
   "source": [
    "# Dicionario"
   ]
  },
  {
   "attachments": {},
   "cell_type": "markdown",
   "metadata": {},
   "source": [
    "## Conceitos\n",
    "\n",
    "- Uma lista de chave e valores\n",
    "- Nao existe o conceito de numeracao de posicoes\n",
    "\n",
    "## Conceito principal\n",
    "\n",
    "- Chave:valor --> acessar a chave retorna o valor"
   ]
  },
  {
   "cell_type": "code",
   "execution_count": 6,
   "metadata": {},
   "outputs": [
    {
     "name": "stdout",
     "output_type": "stream",
     "text": [
      "Wndll\n",
      "moto\n"
     ]
    }
   ],
   "source": [
    "#Criando dicionario\n",
    "\n",
    "d1 = {'ch1':'Wndll',\n",
    "        2:'carro',\n",
    "        '2':'moto',\n",
    "        'senha':[1,23,4,5]\n",
    "}\n",
    "\n",
    "print(d1['ch1'])\n",
    "print(d1['2'])\n",
    "\n"
   ]
  },
  {
   "cell_type": "code",
   "execution_count": 7,
   "metadata": {},
   "outputs": [
    {
     "name": "stdout",
     "output_type": "stream",
     "text": [
      "nova\n"
     ]
    }
   ],
   "source": [
    "#criando uma nova posicao\n",
    "d1['nova']='outro valor'\n",
    "print('nova')"
   ]
  },
  {
   "attachments": {},
   "cell_type": "markdown",
   "metadata": {},
   "source": [
    "### AS CHAVES POSSUEM VALORES UNICOS"
   ]
  },
  {
   "cell_type": "code",
   "execution_count": 8,
   "metadata": {},
   "outputs": [
    {
     "name": "stdout",
     "output_type": "stream",
     "text": [
      "aleatorio\n"
     ]
    }
   ],
   "source": [
    "d1['nova']='aleatorio'\n",
    "print(d1['nova'])\n"
   ]
  },
  {
   "attachments": {},
   "cell_type": "markdown",
   "metadata": {},
   "source": [
    "Chave louca"
   ]
  },
  {
   "cell_type": "code",
   "execution_count": 10,
   "metadata": {},
   "outputs": [
    {
     "name": "stdout",
     "output_type": "stream",
     "text": [
      "4\n"
     ]
    }
   ],
   "source": [
    "d1[(1,2,3,4,5)] = 4\n",
    "print(d1[(1,2,3,4,5)])"
   ]
  },
  {
   "cell_type": "code",
   "execution_count": 11,
   "metadata": {},
   "outputs": [
    {
     "name": "stdout",
     "output_type": "stream",
     "text": [
      "{'ch1': 'Wndll', 2: 'carro', '2': 'moto', 'senha': [1, 23, 4, 5], 'nova': 'aleatorio', (1, 2, 3, 4, 5): 4}\n"
     ]
    }
   ],
   "source": [
    "print(d1)"
   ]
  },
  {
   "attachments": {},
   "cell_type": "markdown",
   "metadata": {},
   "source": [
    "## Percorrendo elementos do dicionario"
   ]
  },
  {
   "cell_type": "code",
   "execution_count": 13,
   "metadata": {},
   "outputs": [
    {
     "name": "stdout",
     "output_type": "stream",
     "text": [
      "ch1\n",
      "2\n",
      "2\n",
      "senha\n",
      "nova\n",
      "(1, 2, 3, 4, 5)\n"
     ]
    }
   ],
   "source": [
    "#como percorrer chaves\n",
    "for i in d1:\n",
    "    print(i)"
   ]
  },
  {
   "cell_type": "code",
   "execution_count": 14,
   "metadata": {},
   "outputs": [
    {
     "name": "stdout",
     "output_type": "stream",
     "text": [
      "Wndll\n",
      "carro\n",
      "moto\n",
      "[1, 23, 4, 5]\n",
      "aleatorio\n",
      "4\n"
     ]
    }
   ],
   "source": [
    "#acessa todas as senhas\n",
    "for i in d1.values():\n",
    "    print(i)"
   ]
  },
  {
   "cell_type": "code",
   "execution_count": 19,
   "metadata": {},
   "outputs": [
    {
     "name": "stdout",
     "output_type": "stream",
     "text": [
      "('ch1', 'Wndll')\n",
      "(2, 'carro')\n",
      "('2', 'moto')\n",
      "('senha', [1, 23, 4, 5])\n",
      "('nova', 'aleatorio')\n",
      "((1, 2, 3, 4, 5), 4)\n"
     ]
    }
   ],
   "source": [
    "for  j in d1.items():\n",
    "    print (j)"
   ]
  },
  {
   "cell_type": "code",
   "execution_count": 22,
   "metadata": {},
   "outputs": [
    {
     "name": "stdout",
     "output_type": "stream",
     "text": [
      "ch1 Wndll\n",
      "2 carro\n",
      "2 moto\n",
      "senha [1, 23, 4, 5]\n",
      "nova aleatorio\n",
      "(1, 2, 3, 4, 5) 4\n"
     ]
    }
   ],
   "source": [
    "for j,v in d1.items():\n",
    "    print(j,v)\n"
   ]
  },
  {
   "attachments": {},
   "cell_type": "markdown",
   "metadata": {},
   "source": [
    "## Procurando elementos"
   ]
  },
  {
   "cell_type": "code",
   "execution_count": 25,
   "metadata": {},
   "outputs": [
    {
     "ename": "KeyError",
     "evalue": "'Wndll'",
     "output_type": "error",
     "traceback": [
      "\u001b[1;31m---------------------------------------------------------------------------\u001b[0m",
      "\u001b[1;31mKeyError\u001b[0m                                  Traceback (most recent call last)",
      "Cell \u001b[1;32mIn[25], line 1\u001b[0m\n\u001b[1;32m----> 1\u001b[0m a\u001b[39m=\u001b[39md1[\u001b[39m'\u001b[39;49m\u001b[39mWndll\u001b[39;49m\u001b[39m'\u001b[39;49m]\n",
      "\u001b[1;31mKeyError\u001b[0m: 'Wndll'"
     ]
    }
   ],
   "source": [
    "a=d1['Wndll']"
   ]
  },
  {
   "cell_type": "code",
   "execution_count": 26,
   "metadata": {},
   "outputs": [
    {
     "name": "stdout",
     "output_type": "stream",
     "text": [
      "None\n"
     ]
    }
   ],
   "source": [
    "a = d1.get('Wndll')\n",
    "print(a)"
   ]
  },
  {
   "attachments": {},
   "cell_type": "markdown",
   "metadata": {},
   "source": [
    "## Problema fixacao"
   ]
  },
  {
   "cell_type": "code",
   "execution_count": null,
   "metadata": {},
   "outputs": [],
   "source": []
  },
  {
   "attachments": {},
   "cell_type": "markdown",
   "metadata": {},
   "source": [
    "Antes do problemas fazer problemas de dicionario do curso em video"
   ]
  },
  {
   "attachments": {},
   "cell_type": "markdown",
   "metadata": {},
   "source": [
    "Sem problemas, aqui est um exemplo simples de dicionrio que voc pode usar para ensinar seu aluno:\n",
    "\n",
    "Suponha que voc seja o gerente de um supermercado e precisa criar um inventrio de produtos para a loja. Crie um dicionrio em Python que contenha o nome, o preo e a quantidade em estoque de cada produto. \n",
    "\n",
    "Exemplo de dicionrio de inventrio:\n",
    "\n",
    "```python\n",
    "inventory = {\n",
    "    'banana': {'price': 2.0, 'quantity': 10},\n",
    "    'ma': {'price': 3.5, 'quantity': 5},\n",
    "    'laranja': {'price': 2.5, 'quantity': 20}\n",
    "}\n",
    "```\n",
    "\n",
    "Em seguida, use os mtodos de dicionrio `keys()`, `values()` e `items()` para imprimir na tela cada produto do inventrio, juntamente com seu preo e quantidade em estoque.\n",
    "\n",
    "Exemplo:\n",
    "\n",
    "\n",
    "\n",
    "A sada para o exemplo acima seria:\n",
    "\n",
    "```\n",
    "Produto: banana | Preo: R$2.00 | Quantidade em estoque: 10\n",
    "Produto: ma | Preo: R$3.50 | Quantidade em estoque: 5\n",
    "Produto: laranja | Preo: R$2.50 | Quantidade em estoque: 20\n",
    "``` \n",
    "\n",
    "Isso dever permitir que seu aluno pratique a criao e manipulao de dicionrios em Python."
   ]
  }
 ],
 "metadata": {
  "kernelspec": {
   "display_name": "Python 3",
   "language": "python",
   "name": "python3"
  },
  "language_info": {
   "codemirror_mode": {
    "name": "ipython",
    "version": 3
   },
   "file_extension": ".py",
   "mimetype": "text/x-python",
   "name": "python",
   "nbconvert_exporter": "python",
   "pygments_lexer": "ipython3",
   "version": "3.10.11"
  },
  "orig_nbformat": 4
 },
 "nbformat": 4,
 "nbformat_minor": 2
}
